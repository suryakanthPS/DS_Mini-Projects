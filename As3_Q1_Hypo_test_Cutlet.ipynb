{
  "nbformat": 4,
  "nbformat_minor": 0,
  "metadata": {
    "colab": {
      "provenance": [],
      "include_colab_link": true
    },
    "kernelspec": {
      "name": "python3",
      "display_name": "Python 3"
    },
    "language_info": {
      "name": "python"
    }
  },
  "cells": [
    {
      "cell_type": "markdown",
      "metadata": {
        "id": "view-in-github",
        "colab_type": "text"
      },
      "source": [
        "<a href=\"https://colab.research.google.com/github/suryakanthPS/DS_Mini-Projects/blob/main/As3_Q1_Hypo_test_Cutlet.ipynb\" target=\"_parent\"><img src=\"https://colab.research.google.com/assets/colab-badge.svg\" alt=\"Open In Colab\"/></a>"
      ]
    },
    {
      "cell_type": "code",
      "execution_count": null,
      "metadata": {
        "id": "4gubhT7tVTvH"
      },
      "outputs": [],
      "source": [
        "#import libraries\n",
        "import pandas as pd\n",
        "import numpy as np\n",
        "import scipy\n",
        "from scipy import stats"
      ]
    },
    {
      "cell_type": "markdown",
      "source": [
        "#### Cutlet\n",
        "\n",
        "*   Ho: μ1 = μ2 (There is no difference in diameters of cutlets between two units).\n",
        "*   Ha: μ1 ≠ μ2 (There is significant difference in diameters of cutlets between two units) \n",
        "* 2 Sample 2 Tail test applicable"
      ],
      "metadata": {
        "id": "UHPGlpPiYqaP"
      }
    },
    {
      "cell_type": "code",
      "source": [
        "(7.019091429-6.964297143)/(np.sqrt(((0.2884**2)/35)+((0.3434**2)/35)))"
      ],
      "metadata": {
        "colab": {
          "base_uri": "https://localhost:8080/"
        },
        "id": "4pL8-XRg0Muc",
        "outputId": "437330ef-7096-4fd5-8fc0-f9293de029ee"
      },
      "execution_count": null,
      "outputs": [
        {
          "output_type": "execute_result",
          "data": {
            "text/plain": [
              "0.7228784684535277"
            ]
          },
          "metadata": {},
          "execution_count": 62
        }
      ]
    },
    {
      "cell_type": "code",
      "source": [
        "data = pd.read_csv(\"/content/Cutlets.csv\")"
      ],
      "metadata": {
        "id": "XuFSQ8oUbmFD"
      },
      "execution_count": null,
      "outputs": []
    },
    {
      "cell_type": "code",
      "source": [
        "UnitA = pd.Series(data.iloc[:,0])\n",
        "UnitB = pd.Series(data.iloc[:,1])"
      ],
      "metadata": {
        "id": "On9-84XGchyK"
      },
      "execution_count": null,
      "outputs": []
    },
    {
      "cell_type": "code",
      "source": [
        "# 2 sample 2 tail test \n",
        "#stats.ttest_ind(array1,array2) - calculates t test for two independent sample scores\n",
        "p_value=stats.ttest_ind(UnitA,UnitB)\n",
        "p_value"
      ],
      "metadata": {
        "id": "Nf8x8Wt5k_eo",
        "colab": {
          "base_uri": "https://localhost:8080/"
        },
        "outputId": "c8532696-9544-4ca8-c10a-303174f9751c"
      },
      "execution_count": null,
      "outputs": [
        {
          "output_type": "execute_result",
          "data": {
            "text/plain": [
              "Ttest_indResult(statistic=0.7228688704678063, pvalue=0.4722394724599501)"
            ]
          },
          "metadata": {},
          "execution_count": 12
        }
      ]
    },
    {
      "cell_type": "code",
      "source": [
        "p_value[1]"
      ],
      "metadata": {
        "colab": {
          "base_uri": "https://localhost:8080/"
        },
        "id": "jdKrd6VvUPGk",
        "outputId": "fe6288ab-5963-483c-df6f-758e093274cd"
      },
      "execution_count": null,
      "outputs": [
        {
          "output_type": "execute_result",
          "data": {
            "text/plain": [
              "0.4722394724599501"
            ]
          },
          "metadata": {},
          "execution_count": 19
        }
      ]
    },
    {
      "cell_type": "markdown",
      "source": [
        "* pvalue is 0.47 which is greater than significance lvl 0.05\n",
        "* Result - Accept Null hypo UnitA=UnitB\n",
        "* Inference - There is no significant difference in cutlet size of both units"
      ],
      "metadata": {
        "id": "LYaQB238m0-n"
      }
    }
  ]
}